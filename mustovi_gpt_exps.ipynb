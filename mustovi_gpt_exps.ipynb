{
 "cells": [
  {
   "cell_type": "code",
   "execution_count": 195,
   "id": "light-extension",
   "metadata": {},
   "outputs": [],
   "source": [
    "import os\n",
    "import torch\n",
    "\n",
    "import numpy as np\n",
    "from mustovi_utils import load_gpt_model, gen_sent\n",
    "\n",
    "os.environ[\"CUDA_LAUNCH_BLOCKING\"] = \"1\""
   ]
  },
  {
   "cell_type": "code",
   "execution_count": 2,
   "id": "excessive-barrier",
   "metadata": {},
   "outputs": [],
   "source": [
    "gpt_model, gpt_tokenizer = load_gpt_model(\"neo1.3\")"
   ]
  },
  {
   "cell_type": "code",
   "execution_count": 3,
   "id": "neutral-softball",
   "metadata": {},
   "outputs": [],
   "source": [
    "import sys\n",
    "sys.path.append(\"../StyleCLIP_modular\")\n",
    "from style_clip import Imagine, create_text_path\n",
    "import argparse\n",
    "\n",
    "net = \"image\" # conv, vqgan\n",
    "args = dict()\n",
    "args[\"clip_names\"] = [\"ViT-B/16\", \"ViT-B/32\"]#, \"RN50\"]\n",
    "args[\"sideX\"] = 50\n",
    "args[\"sideY\"] = 50\n",
    "args[\"circular\"] = 0\n",
    "args[\"model_type\"] = \"image\"\n",
    "\n",
    "imagine = Imagine(\n",
    "                save_progress=False,\n",
    "                open_folder=False,\n",
    "                save_video=False,\n",
    "                verbose=False,\n",
    "                **args\n",
    "               )"
   ]
  },
  {
   "cell_type": "code",
   "execution_count": 4,
   "id": "retired-professor",
   "metadata": {},
   "outputs": [],
   "source": [
    "def gpt_create_style(model, tokenizer, theme_words, num_beams=5, prompt_num=5, top_p=0.8):\n",
    "    if prompt_num == 0:\n",
    "        prompter = \"The name of a matching painter is:\"\n",
    "        #gpt_prompt = f\"\"\"I am an artificial intelligence that can tell you a matching artist (even little known ones) for a set of words describing a painting.\n",
    "        gpt_prompt = f\"\"\"The following are lists of words describing art, followed by the name of the artist:\n",
    "\n",
    "        The art fits these terms: expressionist, beautiful, vibrant. {prompter} Van Gogh.\n",
    "        The art fits these terms: epic, fantasy, stunning, beautiful, moody. {prompter} Greg Rutkowski.\n",
    "        The art fits these terms: realistic, beautiful, landscapes, dinosaurs, forgotten civilizations. {prompter} James Gurney.\n",
    "        The art fits these terms: {theme_words}. {prompter}\"\"\"\n",
    "    if prompt_num == 1:\n",
    "        prompter = \"The name of a matching painter is:\"\n",
    "        gpt_prompt = f\"\"\"The following are lists of words describing art, followed by the name of the artist:\n",
    "\n",
    "        expressionist, beautiful, vibrant. {prompter} Van Gogh.\n",
    "        epic, fantasy, stunning, beautiful, moody. {prompter} Greg Rutkowski.\n",
    "        realistic, beautiful, landscapes, dinosaurs, forgotten civilizations. {prompter} James Gurney.\n",
    "        {theme_words}. {prompter}\"\"\"\n",
    "    elif prompt_num == 2:\n",
    "        prompter = \"Matching visual artist:\"\n",
    "        gpt_prompt = f\"\"\"The following are lists of words describing art, followed by the name of the artist:\n",
    "\n",
    "        expressionist, beautiful, vibrant. {prompter} Van Gogh.\n",
    "        epic, fantasy, stunning, beautiful, moody. {prompter} Greg Rutkowski.\n",
    "        realistic, beautiful, landscapes, forgotten civilizations. {prompter} James Gurney.\n",
    "        {theme_words}. {prompter}\"\"\"\n",
    "    elif prompt_num == 3:\n",
    "        prompter = \"Matching visual artist:\"\n",
    "        gpt_prompt = f\"\"\"The following are lists of words describing art, followed by the name of the artist:\n",
    "\n",
    "        expressionist, beautiful, vibrant. {prompter} Van Gogh.\n",
    "        epic, fantasy, stunning, moody. {prompter} Greg Rutkowski.\n",
    "        realistic, beautiful, landscapes, forgotten civilizations. {prompter} James Gurney.\n",
    "        happy, dreamy, romantic, sensual. {prompter} Gustav Klimt.\n",
    "        {theme_words}. {prompter}\"\"\"\n",
    "    elif prompt_num == 4:\n",
    "        prompter = \". Matching artstyle:\"\n",
    "        gpt_prompt = f\"\"\"The following are lists of adjectives, listed in order of importance. They are followed by a name of an artstyle that matches them:\n",
    "\n",
    "        introspective, beautiful, sad{prompter} Impressionism.\n",
    "        \n",
    "        expressive, wild, colourful{prompter} Expressionism.\n",
    "        \n",
    "        popular, internet{prompter} Trending on artstation.\n",
    "        \n",
    "        rendered, detailed, high-quality{prompter} Rendered in unreal engine.\n",
    "        \n",
    "        {theme_words}{prompter}\"\"\"\n",
    "    elif prompt_num == 5:\n",
    "        prompter = \". Matching artstyle:\"\n",
    "        gpt_prompt = f\"\"\"The following are adjectives, followed by a matching artstyle:\n",
    " realistic, beautiful, landscapes, forgotten civilizations{prompter} By James Gurney.\n",
    " introspective, beautiful, sad{prompter} A moody painting.\n",
    " expressive, wild, colourful{prompter} An expressionist painting.\n",
    " epic, fantasy, stunning, moody{prompter} Illustrated by Greg Rutkowski.\n",
    " {theme_words}{prompter}\"\"\"\n",
    "# happy, dreamy, romantic, sensual{prompter} Painted by Gustav Klimt.\n",
    "# popular, internet{prompter} Trending on artstation.\n",
    "\n",
    "\n",
    "#gpt_prompt = f\"\"\"I am an artificial intelligence that can tell you a matching artist (even little known ones) for a set of words describing a painting.\n",
    "    #The painting fits these terms: {theme_words}. {prompter}\"\"\"\n",
    "    \n",
    "    #prompter = \"He would suggest the artist:\"\n",
    "    #gpt_prompt = f\"\"\"An interview with a world-famous art expert. He can tell you an artist with a matching style for a set of words describing a painting.\n",
    "    #For painting fiting these terms: {theme_words}. {prompter}\"\"\"\n",
    "    \n",
    "    #prompter = \" This painting has been painted by a painter with the name\"\n",
    "    #gpt_prompt = f\"\"\"I would describe this painting as {theme_words}. {prompter}\"\"\"\n",
    "\n",
    "    \n",
    "    out = model.generate(tokenizer.encode(gpt_prompt, return_tensors=\"pt\").to(model.device),\n",
    "                         top_p=0.98, do_sample=True, output_scores=True, \n",
    "                         return_dict_in_generate=True, \n",
    "                         max_length=150,\n",
    "                         num_beams=num_beams, \n",
    "                         no_repeat_ngram_size=2,)\n",
    "    out_text = tokenizer.decode(out[\"sequences\"].tolist()[0])\n",
    "    #print(out_text.split(\"Corresponding image description:\")[3:])\n",
    "    clip_prompt = out_text.split(prompter)[-1].split(\"\\n\")[0].split(\"<|endoftext|>\")[0].strip()\n",
    "    #.split(\".\")[0].strip().strip(\"\\n\")\n",
    "    #while len(clip_prompt) > 25:\n",
    "    #    clip_prompt = \".\".join(clip_prompt.split(\".\")[:-1])\n",
    "    return clip_prompt, out_text#.split(prompter)[-1]"
   ]
  },
  {
   "cell_type": "code",
   "execution_count": 793,
   "id": "prospective-progress",
   "metadata": {},
   "outputs": [],
   "source": [
    "import torch\n",
    "\n",
    "\n",
    "def gpt_create_prompt(model, tokenizer, merged_top_tags, num_beams=6, top_p=0.80, prompt_num=1):\n",
    "    if prompt_num == 1:\n",
    "        prompter = \". Full description:\"\n",
    "        gpt_prompt = f\"\"\"The following are adjectives describing a song, followed by a description of the corresponding image:\n",
    "    fast, sad, dark{prompter} A man running through dark woods while crying.\n",
    "    loud, techno, electronic, abstract{prompter} Dynamic and vibrant colors forming strong geometric shapes that give the impression of a rave.\n",
    "    slow, soft, beautiful, sad, quiet{prompter} An old woman who is sitting on a chair with her hands folded in front of her. She is looking at you with a sad expression on her face.\n",
    "    {merged_top_tags}{prompter}\"\"\"\n",
    "    if prompt_num == 2:\n",
    "        prompter = \". Full description:\"\n",
    "        gpt_prompt = f\"\"\"The following are adjectives describing an image, followed by a full description of the corresponding image:\n",
    "    fast, sad, dark{prompter} A man is running through dark woods while crying.\n",
    "    loud, techno, electronic, abstract{prompter} Dynamic and vibrant colors forming strong geometric shapes that give the impression of a rave.\n",
    "    slow, soft, beautiful, sad, quiet{prompter} An old woman is sitting on a chair in a beautiful garden with her hands folded in front of her. She is looking at you with a sad expression on her face.\n",
    "    {merged_top_tags}{prompter}\"\"\"\n",
    "    \n",
    "    out = model.generate(tokenizer.encode(gpt_prompt, return_tensors=\"pt\").to(model.device),\n",
    "                         top_p=top_p, do_sample=True, output_scores=True, \n",
    "                         return_dict_in_generate=True, \n",
    "                         max_length=220,\n",
    "                         num_beams=num_beams, \n",
    "                         no_repeat_ngram_size=2,)\n",
    "    out_text = tokenizer.decode(out[\"sequences\"].tolist()[0])\n",
    "    #print(out_text.split(\"Corresponding image description:\")[3:])\n",
    "    clip_prompt = out_text.split(prompter)[-1].split(\"\\n\")[0].strip().strip('<|endoftext|>')\n",
    "    if not clip_prompt.endswith(\".\"):\n",
    "        clip_prompt = \".\".join(clip_prompt.split(\".\")[:-1]) + \".\"\n",
    "    return clip_prompt, out_text"
   ]
  },
  {
   "cell_type": "code",
   "execution_count": 794,
   "id": "responsible-mainstream",
   "metadata": {},
   "outputs": [],
   "source": [
    "themes = [['chill', 'sexy', 'chillout', 'slow', 'Mellow'],\n",
    " ['slow', 'soft', 'sad', 'beautiful', 'quiet'],\n",
    " ['beautiful', 'sad', 'slow', 'soft', 'Mellow'],\n",
    " ['chillout', 'chill', 'party', 'sexy', 'weird'],\n",
    " ['sexy', 'chill', 'slow', 'chillout', 'happy'],\n",
    " ['quiet', 'catchy', 'soft', 'happy', 'sad'],\n",
    " ['chill', 'slow', 'chillout', 'beautiful', 'Mellow'],\n",
    " ['slow', 'soft', 'beautiful', 'sad', 'quiet']]"
   ]
  },
  {
   "cell_type": "code",
   "execution_count": 813,
   "id": "verbal-titanium",
   "metadata": {},
   "outputs": [],
   "source": [
    "import importlib\n",
    "import mustovi_utils\n",
    "importlib.reload(mustovi_utils)\n",
    "from mustovi_utils import sample_GPT_with_CLIP\n",
    "from clip import tokenize\n",
    "\n",
    "tags = \", \".join(themes[0])\n",
    "    "
   ]
  },
  {
   "cell_type": "code",
   "execution_count": 814,
   "id": "urban-bearing",
   "metadata": {},
   "outputs": [
    {
     "name": "stdout",
     "output_type": "stream",
     "text": [
      "chill, sexy, chillout, slow, Mellow\n"
     ]
    }
   ],
   "source": [
    "img_captioning = False\n",
    "\n",
    "clip_model = imagine.perceptor.models[0] \n",
    "if img_captioning:\n",
    "    from PIL import Image\n",
    "    img = \"hot-dog.jpg\"\n",
    "    target_clip_feats = clip_model.encode_image(imagine.clip_transform(Image.open(f\"../CLIP_playground/base_images/{img}\").convert(\"RGB\")).unsqueeze(0).cuda())\n",
    "    gpt_prompt = \"\"\n",
    "else:\n",
    "\n",
    "    print(tags)\n",
    "    \n",
    "    target_clip_feats = clip_model.encode_text(tokenize(tags).to(\"cuda\"))"
   ]
  },
  {
   "cell_type": "code",
   "execution_count": 832,
   "id": "durable-messaging",
   "metadata": {},
   "outputs": [
    {
     "name": "stdout",
     "output_type": "stream",
     "text": [
      "Context:  \n",
      " The following are adjectives describing an image, followed by a full description of the corresponding image:\n",
      " fast, sad, dark. Full description: A man is running through dark woods while crying.\n",
      " loud, techno, electronic, abstract. Full description: Dynamic and vibrant colors forming strong geometric shapes that resemble a rave.\n",
      " slow, soft, beautiful, sad, quiet. Full description: An old woman is sitting on a chair in a beautiful garden with her hands folded in front of her. She is looking at you with a sad expression on her face.\n",
      " depression, excitement. Full description:\n"
     ]
    },
    {
     "data": {
      "text/plain": [
       "['A man is smiling at the camera and you can see a tear running down his cheek.',\n",
       " 'A beautiful woman in a beautiful dress is playing with a small child and smiling.']"
      ]
     },
     "execution_count": 832,
     "metadata": {},
     "output_type": "execute_result"
    }
   ],
   "source": [
    "from mustovi_utils import load_gpt_model, gen_sent\n",
    "\n",
    "gpt_model, gpt_tokenizer = load_gpt_model(\"neo1.3\")\n",
    "\n",
    "prefix = \"The following are adjectives describing an image, followed by a full description of the corresponding image:\\n \"\n",
    "prompter = \". Full description:\"\n",
    "examples = {\"fast, sad, dark\": \" A man is running through dark woods while crying.\",\n",
    "            \"loud, techno, electronic, abstract\": \" Dynamic and vibrant colors forming strong geometric shapes that resemble a rave.\",\n",
    "            \"slow, soft, beautiful, sad, quiet\": \" An old woman is sitting on a chair in a beautiful garden with her hands folded in front of her. She is looking at you with a sad expression on her face.\",\n",
    "           }\n",
    "target_text = \"depression, excitement\"\n",
    "\n",
    "gen_sent(gpt_model, gpt_tokenizer, clip_model, target_clip_feats, \n",
    "         start_text=\"\", p=0.9, \n",
    "         prefix=prefix, examples=examples, prompter=prompter, target_text=target_text,\n",
    "         clip_weight=0.4, \n",
    "         clip_temp=0.45, gpt_temp=0.75, out_len=50, v=-1, num_beams=20, return_num=2)"
   ]
  },
  {
   "cell_type": "code",
   "execution_count": 835,
   "id": "digital-croatia",
   "metadata": {},
   "outputs": [
    {
     "name": "stdout",
     "output_type": "stream",
     "text": [
      "Context:  \n",
      " The following are adjectives, followed by a matching artstyle:\n",
      " introspective, beautiful, sad. Matching artstyle: A moody painting.\n",
      " expressive, wild, colourful. Matching artstyle: An expressionist painting.\n",
      " epic, fantasy, stunning, moody. Matching artstyle: Illustrated by Greg Rutkowski.\n",
      " realistic, beautiful, landscapes, forgotten civilizations. Matching artstyle: By James Gurney.\n",
      " depression, excitement. Matching artstyle:\n"
     ]
    },
    {
     "data": {
      "text/plain": [
       "['A realistic painting.', 'A painting by Benjamin Buchalter.']"
      ]
     },
     "execution_count": 835,
     "metadata": {},
     "output_type": "execute_result"
    }
   ],
   "source": []
  },
  {
   "cell_type": "code",
   "execution_count": 771,
   "id": "lesser-probability",
   "metadata": {},
   "outputs": [],
   "source": [
    "\n"
   ]
  },
  {
   "cell_type": "code",
   "execution_count": 827,
   "id": "loose-chorus",
   "metadata": {},
   "outputs": [],
   "source": []
  },
  {
   "cell_type": "code",
   "execution_count": 790,
   "id": "involved-radius",
   "metadata": {},
   "outputs": [
    {
     "data": {
      "text/plain": [
       "'A woman is sitting on a chair in a chill place with her hands folded in front of her. She is looking at you with a sexy look on her face.'"
      ]
     },
     "execution_count": 790,
     "metadata": {},
     "output_type": "execute_result"
    }
   ],
   "source": []
  },
  {
   "cell_type": "code",
   "execution_count": 777,
   "id": "spare-discharge",
   "metadata": {},
   "outputs": [
    {
     "name": "stdout",
     "output_type": "stream",
     "text": [
      " The chill music that fills the air around you.\n",
      "\n",
      " A chill out music video featuring sexy chicks with slow, Mellow, slow music.\n",
      "\n",
      " A chilled out atmosphere of the album that seems to give the impression of a sex club.\n",
      "\n"
     ]
    }
   ],
   "source": [
    "for sent in df.sort_values(\"clip_score\", ascending=False).iloc[:3][\"sent\"].tolist():\n",
    "    print(sent)"
   ]
  },
  {
   "cell_type": "code",
   "execution_count": 778,
   "id": "oriental-transport",
   "metadata": {},
   "outputs": [
    {
     "name": "stdout",
     "output_type": "stream",
     "text": [
      " A woman is sitting on a chair in a chill place with her hands folded in front of her. She is looking at you with a sexy look on her face.\n",
      "\n",
      " The woman is looking at you with a look of pleasure.\n",
      "\n",
      " A beautiful, sad, relaxing, chill out girl looks in your direction with a smile on her face.\n",
      "\n"
     ]
    }
   ],
   "source": [
    "for sent in df.sort_values(\"gpt_score\", ascending=False).iloc[:3][\"sent\"].tolist():\n",
    "    print(sent)"
   ]
  },
  {
   "cell_type": "code",
   "execution_count": 779,
   "id": "tested-librarian",
   "metadata": {},
   "outputs": [
    {
     "name": "stdout",
     "output_type": "stream",
     "text": [
      " A woman is sitting on a chair in a chill place with her hands folded in front of her. She is looking at you with a sexy look on her face.\n",
      "\n",
      " The woman is looking at you with a look of pleasure.\n",
      "\n",
      " A woman is in a really chill and sexy mood while sitting on a couch.\n",
      "\n"
     ]
    }
   ],
   "source": [
    "for sent in df.sort_values(\"post_score\", ascending=False).iloc[:3][\"sent\"].tolist():\n",
    "    print(sent)"
   ]
  },
  {
   "cell_type": "code",
   "execution_count": 780,
   "id": "weird-hebrew",
   "metadata": {},
   "outputs": [
    {
     "name": "stdout",
     "output_type": "stream",
     "text": [
      "Final preds according to direction: \n",
      " A woman is sitting on a chair in a chill place with her hands folded in front of her. She is looking at you with a sexy look on her face.\n",
      "\n",
      " The picture is in a nice relaxing environment with nature and trees in the background. The colors are still bright and the scene is very relaxing.\n",
      "\n",
      " A sexy and calm woman is sitting on a couch and is talking on the phone. The man is standing next to her and he is chill and he is wearing a white shirt and a black tie. The woman is wearing a blue and black dress and\n"
     ]
    }
   ],
   "source": [
    "print(\"Final preds according to direction: \")\n",
    "for sent in df.sort_values(\"direction_similarity\", ascending=False).iloc[:3][\"sent\"]:\n",
    "    print(sent)"
   ]
  },
  {
   "cell_type": "code",
   "execution_count": 781,
   "id": "immediate-marine",
   "metadata": {},
   "outputs": [
    {
     "name": "stdout",
     "output_type": "stream",
     "text": [
      "Final pred acc to score: \n"
     ]
    },
    {
     "data": {
      "text/plain": [
       "' A woman is sitting on a chair in a chill place with her hands folded in front of her. She is looking at you with a sexy look on her face.\\n'"
      ]
     },
     "execution_count": 781,
     "metadata": {},
     "output_type": "execute_result"
    }
   ],
   "source": []
  },
  {
   "cell_type": "code",
   "execution_count": 782,
   "id": "random-session",
   "metadata": {},
   "outputs": [
    {
     "data": {
      "text/plain": [
       "'chill, sexy, chillout, slow, Mellow'"
      ]
     },
     "execution_count": 782,
     "metadata": {},
     "output_type": "execute_result"
    }
   ],
   "source": [
    "tags"
   ]
  },
  {
   "cell_type": "code",
   "execution_count": null,
   "id": "inappropriate-eclipse",
   "metadata": {},
   "outputs": [],
   "source": []
  }
 ],
 "metadata": {
  "kernelspec": {
   "display_name": "Python 3",
   "language": "python",
   "name": "python3"
  },
  "language_info": {
   "codemirror_mode": {
    "name": "ipython",
    "version": 3
   },
   "file_extension": ".py",
   "mimetype": "text/x-python",
   "name": "python",
   "nbconvert_exporter": "python",
   "pygments_lexer": "ipython3",
   "version": "3.8.10"
  }
 },
 "nbformat": 4,
 "nbformat_minor": 5
}
